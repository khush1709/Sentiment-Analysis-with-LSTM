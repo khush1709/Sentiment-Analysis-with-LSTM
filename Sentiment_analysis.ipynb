{
  "nbformat": 4,
  "nbformat_minor": 0,
  "metadata": {
    "colab": {
      "provenance": []
    },
    "kernelspec": {
      "name": "python3",
      "display_name": "Python 3"
    },
    "language_info": {
      "name": "python"
    }
  },
  "cells": [
    {
      "cell_type": "markdown",
      "source": [
        "**Install necessary libraries**"
      ],
      "metadata": {
        "id": "BnZDJ_IF-9g8"
      }
    },
    {
      "cell_type": "code",
      "source": [
        "!pip install tensorflow numpy pandas scikit-learn"
      ],
      "metadata": {
        "colab": {
          "base_uri": "https://localhost:8080/"
        },
        "id": "Vw3Dnv9iPGAH",
        "outputId": "f835f884-61b8-4800-be79-9f0ff0dbfc0f"
      },
      "execution_count": 1,
      "outputs": [
        {
          "output_type": "stream",
          "name": "stdout",
          "text": [
            "Requirement already satisfied: tensorflow in /usr/local/lib/python3.10/dist-packages (2.15.0)\n",
            "Requirement already satisfied: numpy in /usr/local/lib/python3.10/dist-packages (1.25.2)\n",
            "Requirement already satisfied: pandas in /usr/local/lib/python3.10/dist-packages (2.0.3)\n",
            "Requirement already satisfied: scikit-learn in /usr/local/lib/python3.10/dist-packages (1.2.2)\n",
            "Requirement already satisfied: absl-py>=1.0.0 in /usr/local/lib/python3.10/dist-packages (from tensorflow) (1.4.0)\n",
            "Requirement already satisfied: astunparse>=1.6.0 in /usr/local/lib/python3.10/dist-packages (from tensorflow) (1.6.3)\n",
            "Requirement already satisfied: flatbuffers>=23.5.26 in /usr/local/lib/python3.10/dist-packages (from tensorflow) (24.3.25)\n",
            "Requirement already satisfied: gast!=0.5.0,!=0.5.1,!=0.5.2,>=0.2.1 in /usr/local/lib/python3.10/dist-packages (from tensorflow) (0.5.4)\n",
            "Requirement already satisfied: google-pasta>=0.1.1 in /usr/local/lib/python3.10/dist-packages (from tensorflow) (0.2.0)\n",
            "Requirement already satisfied: h5py>=2.9.0 in /usr/local/lib/python3.10/dist-packages (from tensorflow) (3.9.0)\n",
            "Requirement already satisfied: libclang>=13.0.0 in /usr/local/lib/python3.10/dist-packages (from tensorflow) (18.1.1)\n",
            "Requirement already satisfied: ml-dtypes~=0.2.0 in /usr/local/lib/python3.10/dist-packages (from tensorflow) (0.2.0)\n",
            "Requirement already satisfied: opt-einsum>=2.3.2 in /usr/local/lib/python3.10/dist-packages (from tensorflow) (3.3.0)\n",
            "Requirement already satisfied: packaging in /usr/local/lib/python3.10/dist-packages (from tensorflow) (24.0)\n",
            "Requirement already satisfied: protobuf!=4.21.0,!=4.21.1,!=4.21.2,!=4.21.3,!=4.21.4,!=4.21.5,<5.0.0dev,>=3.20.3 in /usr/local/lib/python3.10/dist-packages (from tensorflow) (3.20.3)\n",
            "Requirement already satisfied: setuptools in /usr/local/lib/python3.10/dist-packages (from tensorflow) (67.7.2)\n",
            "Requirement already satisfied: six>=1.12.0 in /usr/local/lib/python3.10/dist-packages (from tensorflow) (1.16.0)\n",
            "Requirement already satisfied: termcolor>=1.1.0 in /usr/local/lib/python3.10/dist-packages (from tensorflow) (2.4.0)\n",
            "Requirement already satisfied: typing-extensions>=3.6.6 in /usr/local/lib/python3.10/dist-packages (from tensorflow) (4.11.0)\n",
            "Requirement already satisfied: wrapt<1.15,>=1.11.0 in /usr/local/lib/python3.10/dist-packages (from tensorflow) (1.14.1)\n",
            "Requirement already satisfied: tensorflow-io-gcs-filesystem>=0.23.1 in /usr/local/lib/python3.10/dist-packages (from tensorflow) (0.36.0)\n",
            "Requirement already satisfied: grpcio<2.0,>=1.24.3 in /usr/local/lib/python3.10/dist-packages (from tensorflow) (1.62.1)\n",
            "Requirement already satisfied: tensorboard<2.16,>=2.15 in /usr/local/lib/python3.10/dist-packages (from tensorflow) (2.15.2)\n",
            "Requirement already satisfied: tensorflow-estimator<2.16,>=2.15.0 in /usr/local/lib/python3.10/dist-packages (from tensorflow) (2.15.0)\n",
            "Requirement already satisfied: keras<2.16,>=2.15.0 in /usr/local/lib/python3.10/dist-packages (from tensorflow) (2.15.0)\n",
            "Requirement already satisfied: python-dateutil>=2.8.2 in /usr/local/lib/python3.10/dist-packages (from pandas) (2.8.2)\n",
            "Requirement already satisfied: pytz>=2020.1 in /usr/local/lib/python3.10/dist-packages (from pandas) (2023.4)\n",
            "Requirement already satisfied: tzdata>=2022.1 in /usr/local/lib/python3.10/dist-packages (from pandas) (2024.1)\n",
            "Requirement already satisfied: scipy>=1.3.2 in /usr/local/lib/python3.10/dist-packages (from scikit-learn) (1.11.4)\n",
            "Requirement already satisfied: joblib>=1.1.1 in /usr/local/lib/python3.10/dist-packages (from scikit-learn) (1.4.0)\n",
            "Requirement already satisfied: threadpoolctl>=2.0.0 in /usr/local/lib/python3.10/dist-packages (from scikit-learn) (3.4.0)\n",
            "Requirement already satisfied: wheel<1.0,>=0.23.0 in /usr/local/lib/python3.10/dist-packages (from astunparse>=1.6.0->tensorflow) (0.43.0)\n",
            "Requirement already satisfied: google-auth<3,>=1.6.3 in /usr/local/lib/python3.10/dist-packages (from tensorboard<2.16,>=2.15->tensorflow) (2.27.0)\n",
            "Requirement already satisfied: google-auth-oauthlib<2,>=0.5 in /usr/local/lib/python3.10/dist-packages (from tensorboard<2.16,>=2.15->tensorflow) (1.2.0)\n",
            "Requirement already satisfied: markdown>=2.6.8 in /usr/local/lib/python3.10/dist-packages (from tensorboard<2.16,>=2.15->tensorflow) (3.6)\n",
            "Requirement already satisfied: requests<3,>=2.21.0 in /usr/local/lib/python3.10/dist-packages (from tensorboard<2.16,>=2.15->tensorflow) (2.31.0)\n",
            "Requirement already satisfied: tensorboard-data-server<0.8.0,>=0.7.0 in /usr/local/lib/python3.10/dist-packages (from tensorboard<2.16,>=2.15->tensorflow) (0.7.2)\n",
            "Requirement already satisfied: werkzeug>=1.0.1 in /usr/local/lib/python3.10/dist-packages (from tensorboard<2.16,>=2.15->tensorflow) (3.0.2)\n",
            "Requirement already satisfied: cachetools<6.0,>=2.0.0 in /usr/local/lib/python3.10/dist-packages (from google-auth<3,>=1.6.3->tensorboard<2.16,>=2.15->tensorflow) (5.3.3)\n",
            "Requirement already satisfied: pyasn1-modules>=0.2.1 in /usr/local/lib/python3.10/dist-packages (from google-auth<3,>=1.6.3->tensorboard<2.16,>=2.15->tensorflow) (0.4.0)\n",
            "Requirement already satisfied: rsa<5,>=3.1.4 in /usr/local/lib/python3.10/dist-packages (from google-auth<3,>=1.6.3->tensorboard<2.16,>=2.15->tensorflow) (4.9)\n",
            "Requirement already satisfied: requests-oauthlib>=0.7.0 in /usr/local/lib/python3.10/dist-packages (from google-auth-oauthlib<2,>=0.5->tensorboard<2.16,>=2.15->tensorflow) (1.3.1)\n",
            "Requirement already satisfied: charset-normalizer<4,>=2 in /usr/local/lib/python3.10/dist-packages (from requests<3,>=2.21.0->tensorboard<2.16,>=2.15->tensorflow) (3.3.2)\n",
            "Requirement already satisfied: idna<4,>=2.5 in /usr/local/lib/python3.10/dist-packages (from requests<3,>=2.21.0->tensorboard<2.16,>=2.15->tensorflow) (3.6)\n",
            "Requirement already satisfied: urllib3<3,>=1.21.1 in /usr/local/lib/python3.10/dist-packages (from requests<3,>=2.21.0->tensorboard<2.16,>=2.15->tensorflow) (2.0.7)\n",
            "Requirement already satisfied: certifi>=2017.4.17 in /usr/local/lib/python3.10/dist-packages (from requests<3,>=2.21.0->tensorboard<2.16,>=2.15->tensorflow) (2024.2.2)\n",
            "Requirement already satisfied: MarkupSafe>=2.1.1 in /usr/local/lib/python3.10/dist-packages (from werkzeug>=1.0.1->tensorboard<2.16,>=2.15->tensorflow) (2.1.5)\n",
            "Requirement already satisfied: pyasn1<0.7.0,>=0.4.6 in /usr/local/lib/python3.10/dist-packages (from pyasn1-modules>=0.2.1->google-auth<3,>=1.6.3->tensorboard<2.16,>=2.15->tensorflow) (0.6.0)\n",
            "Requirement already satisfied: oauthlib>=3.0.0 in /usr/local/lib/python3.10/dist-packages (from requests-oauthlib>=0.7.0->google-auth-oauthlib<2,>=0.5->tensorboard<2.16,>=2.15->tensorflow) (3.2.2)\n"
          ]
        }
      ]
    },
    {
      "cell_type": "markdown",
      "source": [
        "**Import libraries**"
      ],
      "metadata": {
        "id": "gtGcizKK-4GU"
      }
    },
    {
      "cell_type": "code",
      "source": [
        "import pandas as pd\n",
        "import numpy as np\n",
        "from sklearn.model_selection import train_test_split\n",
        "from sklearn.preprocessing import LabelEncoder\n",
        "from sklearn.feature_extraction.text import TfidfVectorizer\n",
        "from tensorflow.keras.models import Sequential\n",
        "from tensorflow.keras.layers import LSTM, Dense, Embedding\n",
        "from tensorflow.keras.preprocessing.sequence import pad_sequences\n",
        "from tensorflow.keras.utils import to_categorical\n",
        "import re"
      ],
      "metadata": {
        "id": "wasQbc9KPJ95"
      },
      "execution_count": 2,
      "outputs": []
    },
    {
      "cell_type": "markdown",
      "source": [
        "**Load the dataset with specified encoding**"
      ],
      "metadata": {
        "id": "Ka1PvZvV_Eza"
      }
    },
    {
      "cell_type": "code",
      "source": [
        "file_path = 'test.csv'\n",
        "data = pd.read_csv(file_path, encoding='latin-1')"
      ],
      "metadata": {
        "id": "7TLAHcRtPNrF"
      },
      "execution_count": 3,
      "outputs": []
    },
    {
      "cell_type": "markdown",
      "source": [
        "**Map sentiment values to integers**"
      ],
      "metadata": {
        "id": "nWkH47kY_LY9"
      }
    },
    {
      "cell_type": "code",
      "source": [
        "data['sentiment'] = data['sentiment'].map({'positive': 4, 'neutral': 2, 'negative': 0})"
      ],
      "metadata": {
        "id": "ejH50uhcQwBv"
      },
      "execution_count": 4,
      "outputs": []
    },
    {
      "cell_type": "markdown",
      "source": [
        "**Split the data into train and test sets**"
      ],
      "metadata": {
        "id": "YS9yoM49_QZt"
      }
    },
    {
      "cell_type": "code",
      "source": [
        "X_train, X_test, y_train, y_test = train_test_split(data['text'], data['sentiment'], test_size=0.2, random_state=42)"
      ],
      "metadata": {
        "id": "r6KrP4WxPX_p"
      },
      "execution_count": 5,
      "outputs": []
    },
    {
      "cell_type": "markdown",
      "source": [
        "**Drop rows with missing values**"
      ],
      "metadata": {
        "id": "aAP5uONN_WFO"
      }
    },
    {
      "cell_type": "code",
      "source": [
        "# Drop rows with missing values in the train set\n",
        "X_train = X_train.dropna()\n",
        "y_train = y_train.dropna()\n",
        "\n",
        "# Drop rows with missing values in the test set\n",
        "X_test = X_test.dropna()\n",
        "y_test = y_test.dropna()"
      ],
      "metadata": {
        "id": "4z6UvhCmRXt1"
      },
      "execution_count": 6,
      "outputs": []
    },
    {
      "cell_type": "markdown",
      "source": [
        "**Convert text data into numerical format**"
      ],
      "metadata": {
        "id": "LgHnN1IG_eRn"
      }
    },
    {
      "cell_type": "code",
      "source": [
        "vectorizer = TfidfVectorizer(max_features=2000)\n",
        "X_train_vec = vectorizer.fit_transform(X_train)\n",
        "X_test_vec = vectorizer.transform(X_test)"
      ],
      "metadata": {
        "id": "mRZ1MxevPbty"
      },
      "execution_count": 7,
      "outputs": []
    },
    {
      "cell_type": "markdown",
      "source": [
        "**Convert sentiment labels into numerical format**"
      ],
      "metadata": {
        "id": "q9VaWbM6_i5p"
      }
    },
    {
      "cell_type": "code",
      "source": [
        "label_encoder = LabelEncoder()\n",
        "y_train_encoded = label_encoder.fit_transform(y_train)\n",
        "y_test_encoded = label_encoder.transform(y_test)\n",
        "num_classes = len(label_encoder.classes_)"
      ],
      "metadata": {
        "id": "5zHXT4AkPdJB"
      },
      "execution_count": 8,
      "outputs": []
    },
    {
      "cell_type": "markdown",
      "source": [
        "**Define LSTM model**"
      ],
      "metadata": {
        "id": "Wu6KCmKH_mm1"
      }
    },
    {
      "cell_type": "code",
      "source": [
        "model = Sequential()\n",
        "model.add(Embedding(input_dim=2000, output_dim=64, input_length=X_train_vec.shape[1]))\n",
        "model.add(LSTM(128, dropout=0.2, recurrent_dropout=0.2))\n",
        "model.add(Dense(num_classes, activation='softmax'))"
      ],
      "metadata": {
        "id": "RbxhwgySPfOu"
      },
      "execution_count": 9,
      "outputs": []
    },
    {
      "cell_type": "markdown",
      "source": [
        "**Compile the model**"
      ],
      "metadata": {
        "id": "cfTsRbvZ_p3Z"
      }
    },
    {
      "cell_type": "code",
      "source": [
        "model.compile(loss='sparse_categorical_crossentropy', optimizer='adam', metrics=['accuracy'])"
      ],
      "metadata": {
        "id": "m6F8fukwPhxQ"
      },
      "execution_count": 10,
      "outputs": []
    },
    {
      "cell_type": "markdown",
      "source": [
        "**Train the model**"
      ],
      "metadata": {
        "id": "TBnLkVWl_ttu"
      }
    },
    {
      "cell_type": "code",
      "source": [
        "# Sort the indices of the sparse matrix\n",
        "X_train_vec.sort_indices()\n",
        "\n",
        "# Train the model\n",
        "model.fit(X_train_vec, y_train_encoded, batch_size=64, epochs=5)"
      ],
      "metadata": {
        "colab": {
          "base_uri": "https://localhost:8080/"
        },
        "id": "7E7oGpPYPjO3",
        "outputId": "b3c0f8a6-329a-4b6c-9af8-e4d88a347487"
      },
      "execution_count": 11,
      "outputs": [
        {
          "output_type": "stream",
          "name": "stdout",
          "text": [
            "Epoch 1/5\n",
            "45/45 [==============================] - 187s 4s/step - loss: 1.0868 - accuracy: 0.4047\n",
            "Epoch 2/5\n",
            "45/45 [==============================] - 214s 5s/step - loss: 1.0852 - accuracy: 0.4107\n",
            "Epoch 3/5\n",
            "45/45 [==============================] - 220s 5s/step - loss: 1.0850 - accuracy: 0.4107\n",
            "Epoch 4/5\n",
            "45/45 [==============================] - 183s 4s/step - loss: 1.0860 - accuracy: 0.4107\n",
            "Epoch 5/5\n",
            "45/45 [==============================] - 183s 4s/step - loss: 1.0856 - accuracy: 0.4107\n"
          ]
        },
        {
          "output_type": "execute_result",
          "data": {
            "text/plain": [
              "<keras.src.callbacks.History at 0x7ba4bcb1edd0>"
            ]
          },
          "metadata": {},
          "execution_count": 11
        }
      ]
    },
    {
      "cell_type": "markdown",
      "source": [
        "**Evaluate the model**"
      ],
      "metadata": {
        "id": "E3Nl9cql_xch"
      }
    },
    {
      "cell_type": "code",
      "source": [
        "# Sort the indices of the sparse matrix\n",
        "X_test_vec.sort_indices()\n",
        "\n",
        "# Evaluate the model\n",
        "loss, accuracy = model.evaluate(X_test_vec, y_test_encoded, verbose=1)\n",
        "print('Test Accuracy:', accuracy)"
      ],
      "metadata": {
        "colab": {
          "base_uri": "https://localhost:8080/"
        },
        "id": "2UsWqtoqPluR",
        "outputId": "8fea43da-bbbf-4528-eaa1-a58f8ccd7ecf"
      },
      "execution_count": 12,
      "outputs": [
        {
          "output_type": "stream",
          "name": "stdout",
          "text": [
            "23/23 [==============================] - 10s 399ms/step - loss: 1.0957 - accuracy: 0.3801\n",
            "Test Accuracy: 0.38014185428619385\n"
          ]
        }
      ]
    },
    {
      "cell_type": "markdown",
      "source": [
        "**Function to predict the sentiment**"
      ],
      "metadata": {
        "id": "MHlr-48d_0Is"
      }
    },
    {
      "cell_type": "code",
      "source": [
        "def predict_sentiment(text, vectorizer, model, label_encoder):\n",
        "    # Preprocess the text\n",
        "    text = preprocess_text(text)\n",
        "    # Convert text into numerical format\n",
        "    text_vec = vectorizer.transform([text])\n",
        "    # Ensure sorted indices\n",
        "    text_vec.sort_indices()\n",
        "    # Convert sparse matrix to dense array\n",
        "    text_vec_dense = text_vec.toarray()\n",
        "    # Predict sentiment\n",
        "    pred = model.predict(text_vec_dense)\n",
        "    # Decode predicted sentiment\n",
        "    sentiment_label = label_encoder.inverse_transform([np.argmax(pred)])[0]\n",
        "\n",
        "    if sentiment_label == 4:\n",
        "        return \"Positive\"\n",
        "    elif sentiment_label == 2:\n",
        "        return \"Neutral\"\n",
        "    else:\n",
        "        return \"Negative\"\n"
      ],
      "metadata": {
        "id": "aIBKowyoPo69"
      },
      "execution_count": 13,
      "outputs": []
    },
    {
      "cell_type": "markdown",
      "source": [
        "**Function to preprocess the text from user**"
      ],
      "metadata": {
        "id": "hbP3PoYsD0YF"
      }
    },
    {
      "cell_type": "code",
      "source": [
        "def preprocess_text(text):\n",
        "    # Convert text to lowercase\n",
        "    text = text.lower()\n",
        "    # Remove punctuation\n",
        "    text = re.sub(r'[^\\w\\s]', '', text)\n",
        "    return text\n"
      ],
      "metadata": {
        "id": "2lR4hmZEC55M"
      },
      "execution_count": 15,
      "outputs": []
    },
    {
      "cell_type": "markdown",
      "source": [
        "**Function to run the sentiment prediction chatbot**"
      ],
      "metadata": {
        "id": "4sSeaCwr_-tS"
      }
    },
    {
      "cell_type": "code",
      "execution_count": 16,
      "metadata": {
        "colab": {
          "base_uri": "https://localhost:8080/"
        },
        "id": "X1a0MRuYO6I4",
        "outputId": "ca4497b0-6cfa-4d3a-8b28-6134fcc7586c"
      },
      "outputs": [
        {
          "output_type": "stream",
          "name": "stdout",
          "text": [
            "Enter a statement (type 'exit' or 'quit' to end): Hi\n",
            "1/1 [==============================] - 1s 559ms/step\n",
            "Predicted Sentiment: Neutral\n",
            "Enter a statement (type 'exit' or 'quit' to end): How are you?\n",
            "1/1 [==============================] - 0s 151ms/step\n",
            "Predicted Sentiment: Neutral\n",
            "Enter a statement (type 'exit' or 'quit' to end): I am very Happy\n",
            "1/1 [==============================] - 0s 161ms/step\n",
            "Predicted Sentiment: Neutral\n",
            "Enter a statement (type 'exit' or 'quit' to end): Fuck you\n",
            "1/1 [==============================] - 0s 155ms/step\n",
            "Predicted Sentiment: Neutral\n",
            "Enter a statement (type 'exit' or 'quit' to end): O my God\n",
            "1/1 [==============================] - 0s 182ms/step\n",
            "Predicted Sentiment: Neutral\n",
            "Enter a statement (type 'exit' or 'quit' to end): AHAHAHAHAHAHAHAHAHAHA\n",
            "1/1 [==============================] - 0s 153ms/step\n",
            "Predicted Sentiment: Neutral\n",
            "Enter a statement (type 'exit' or 'quit' to end): Exit\n",
            "Goodbye! Exiting the chatbot.\n"
          ]
        }
      ],
      "source": [
        "def run_sentiment_chatbot(vectorizer, model, label_encoder):\n",
        "    while True:\n",
        "        # Prompt the user for input\n",
        "        user_input = input(\"Enter a statement (type 'exit' or 'quit' to end): \")\n",
        "\n",
        "        # Check if the user wants to exit\n",
        "        if user_input.lower() in ['exit', 'quit', 'goodbye', 'bye']:\n",
        "            print(\"Goodbye! Exiting the chatbot.\")\n",
        "            break\n",
        "\n",
        "        # Predict sentiment\n",
        "        predicted_sentiment = predict_sentiment(user_input, vectorizer, model, label_encoder)\n",
        "\n",
        "        # Print the predicted sentiment\n",
        "        print(\"Predicted Sentiment:\", predicted_sentiment)\n",
        "\n",
        "# Run the sentiment prediction chatbot\n",
        "run_sentiment_chatbot(vectorizer, model, label_encoder)\n"
      ]
    }
  ]
}